{
  "cells": [
    {
      "cell_type": "markdown",
      "metadata": {
        "id": "view-in-github",
        "colab_type": "text"
      },
      "source": [
        "<a href=\"https://colab.research.google.com/github/jimmynorman/Bootcamp_industria4.0/blob/main/03_Prediccion_digitos.ipynb\" target=\"_parent\"><img src=\"https://colab.research.google.com/assets/colab-badge.svg\" alt=\"Open In Colab\"/></a>"
      ]
    },
    {
      "cell_type": "code",
      "execution_count": null,
      "id": "92b0ce21",
      "metadata": {
        "_cell_guid": "b1076dfc-b9ad-4769-8c92-a6c4dae69d19",
        "_uuid": "8f2839f25d086af736a60e9eeb907d3b93b6e0e5",
        "execution": {
          "iopub.execute_input": "2022-11-04T02:16:48.033643Z",
          "iopub.status.busy": "2022-11-04T02:16:48.031889Z",
          "iopub.status.idle": "2022-11-04T02:16:48.052822Z",
          "shell.execute_reply": "2022-11-04T02:16:48.049974Z"
        },
        "papermill": {
          "duration": 0.036576,
          "end_time": "2022-11-04T02:16:48.056993",
          "exception": false,
          "start_time": "2022-11-04T02:16:48.020417",
          "status": "completed"
        },
        "tags": [],
        "id": "92b0ce21"
      },
      "outputs": [],
      "source": [
        "import numpy as np\n",
        "import pandas as pd\n",
        "\n",
        "import os, warnings\n",
        "import matplotlib.pyplot as plt\n",
        "from matplotlib import gridspec\n",
        "import random\n",
        "\n",
        "from sklearn.model_selection import train_test_split\n",
        "\n",
        "from tensorflow import keras\n",
        "from tensorflow.keras import layers\n",
        "\n",
        "import tensorflow as tf\n",
        "from tensorflow.keras.callbacks import EarlyStopping"
      ]
    },
    {
      "cell_type": "markdown",
      "source": [
        "# 1. Analizar los datos"
      ],
      "metadata": {
        "id": "w7o4-WeBxYEg"
      },
      "id": "w7o4-WeBxYEg"
    },
    {
      "cell_type": "markdown",
      "source": [],
      "metadata": {
        "id": "nBL3scTp6b-I"
      },
      "id": "nBL3scTp6b-I"
    },
    {
      "cell_type": "markdown",
      "id": "7e9163b4",
      "metadata": {
        "papermill": {
          "duration": 0.006382,
          "end_time": "2022-11-04T02:16:48.073712",
          "exception": false,
          "start_time": "2022-11-04T02:16:48.067330",
          "status": "completed"
        },
        "tags": [],
        "id": "7e9163b4"
      },
      "source": [
        "Ahora sí, vamos a cargar todas las herramientas para empezar a trabajar, para comenzar Keras y Tensorflow. Voy a cargar lo mínimo necesario para poder aunque sea VER una imagen"
      ]
    },
    {
      "cell_type": "code",
      "execution_count": null,
      "id": "2987faed",
      "metadata": {
        "execution": {
          "iopub.execute_input": "2022-11-04T02:16:48.090254Z",
          "iopub.status.busy": "2022-11-04T02:16:48.089303Z",
          "iopub.status.idle": "2022-11-04T02:16:55.959188Z",
          "shell.execute_reply": "2022-11-04T02:16:55.957875Z"
        },
        "papermill": {
          "duration": 7.881215,
          "end_time": "2022-11-04T02:16:55.961920",
          "exception": false,
          "start_time": "2022-11-04T02:16:48.080705",
          "status": "completed"
        },
        "tags": [],
        "id": "2987faed"
      },
      "outputs": [],
      "source": [
        "# Matplotlib\n",
        "plt.rc('figure', autolayout=True)\n",
        "# Solamente es formato para que la imagen se vea linda\n",
        "plt.rc('axes', labelweight='bold', labelsize='large',\n",
        "       titleweight='bold', titlesize=18, titlepad=10)\n",
        "plt.rc('image', cmap='magma')\n",
        "warnings.filterwarnings(\"ignore\")"
      ]
    },
    {
      "cell_type": "markdown",
      "id": "cdcd9f08",
      "metadata": {
        "papermill": {
          "duration": 0.005935,
          "end_time": "2022-11-04T02:16:55.974089",
          "exception": false,
          "start_time": "2022-11-04T02:16:55.968154",
          "status": "completed"
        },
        "tags": [],
        "id": "cdcd9f08"
      },
      "source": [
        "Ahora sí, cargamos los datasets"
      ]
    },
    {
      "cell_type": "code",
      "source": [
        "drive_test = \"https://drive.google.com/file/d/1hBoK0ONDI05BKZi3uO9S3Q6v-H0O9NsU/view?usp=sharing\"\n",
        "drive_train = \"https://drive.google.com/file/d/1r7xj5Rq2Vtl_TDTgiDsgahM8-pJrk5w3/view?usp=sharing\"\n",
        "\n",
        "ruta_test = 'https://drive.google.com/uc?export=download&id='+drive_test.split('/')[-2]\n",
        "ruta_train = 'https://drive.google.com/uc?export=download&id='+drive_train.split('/')[-2]"
      ],
      "metadata": {
        "id": "2o-MmCfvZwD1"
      },
      "id": "2o-MmCfvZwD1",
      "execution_count": null,
      "outputs": []
    },
    {
      "cell_type": "code",
      "execution_count": null,
      "id": "67aad01d",
      "metadata": {
        "execution": {
          "iopub.execute_input": "2022-11-04T02:16:55.988586Z",
          "iopub.status.busy": "2022-11-04T02:16:55.987854Z",
          "iopub.status.idle": "2022-11-04T02:17:01.858822Z",
          "shell.execute_reply": "2022-11-04T02:17:01.857587Z"
        },
        "papermill": {
          "duration": 5.88103,
          "end_time": "2022-11-04T02:17:01.861462",
          "exception": false,
          "start_time": "2022-11-04T02:16:55.980432",
          "status": "completed"
        },
        "tags": [],
        "id": "67aad01d",
        "colab": {
          "base_uri": "https://localhost:8080/",
          "height": 236
        },
        "outputId": "24417cec-2366-4711-c435-e206ebb0bb75"
      },
      "outputs": [
        {
          "output_type": "execute_result",
          "data": {
            "text/plain": [
              "   pixel0  pixel1  pixel2  pixel3  pixel4  pixel5  pixel6  pixel7  pixel8  \\\n",
              "0       0       0       0       0       0       0       0       0       0   \n",
              "1       0       0       0       0       0       0       0       0       0   \n",
              "2       0       0       0       0       0       0       0       0       0   \n",
              "3       0       0       0       0       0       0       0       0       0   \n",
              "4       0       0       0       0       0       0       0       0       0   \n",
              "\n",
              "   pixel9  ...  pixel774  pixel775  pixel776  pixel777  pixel778  pixel779  \\\n",
              "0       0  ...         0         0         0         0         0         0   \n",
              "1       0  ...         0         0         0         0         0         0   \n",
              "2       0  ...         0         0         0         0         0         0   \n",
              "3       0  ...         0         0         0         0         0         0   \n",
              "4       0  ...         0         0         0         0         0         0   \n",
              "\n",
              "   pixel780  pixel781  pixel782  pixel783  \n",
              "0         0         0         0         0  \n",
              "1         0         0         0         0  \n",
              "2         0         0         0         0  \n",
              "3         0         0         0         0  \n",
              "4         0         0         0         0  \n",
              "\n",
              "[5 rows x 784 columns]"
            ],
            "text/html": [
              "\n",
              "  <div id=\"df-632cc645-bdb5-42c3-afd1-16eb920606dd\" class=\"colab-df-container\">\n",
              "    <div>\n",
              "<style scoped>\n",
              "    .dataframe tbody tr th:only-of-type {\n",
              "        vertical-align: middle;\n",
              "    }\n",
              "\n",
              "    .dataframe tbody tr th {\n",
              "        vertical-align: top;\n",
              "    }\n",
              "\n",
              "    .dataframe thead th {\n",
              "        text-align: right;\n",
              "    }\n",
              "</style>\n",
              "<table border=\"1\" class=\"dataframe\">\n",
              "  <thead>\n",
              "    <tr style=\"text-align: right;\">\n",
              "      <th></th>\n",
              "      <th>pixel0</th>\n",
              "      <th>pixel1</th>\n",
              "      <th>pixel2</th>\n",
              "      <th>pixel3</th>\n",
              "      <th>pixel4</th>\n",
              "      <th>pixel5</th>\n",
              "      <th>pixel6</th>\n",
              "      <th>pixel7</th>\n",
              "      <th>pixel8</th>\n",
              "      <th>pixel9</th>\n",
              "      <th>...</th>\n",
              "      <th>pixel774</th>\n",
              "      <th>pixel775</th>\n",
              "      <th>pixel776</th>\n",
              "      <th>pixel777</th>\n",
              "      <th>pixel778</th>\n",
              "      <th>pixel779</th>\n",
              "      <th>pixel780</th>\n",
              "      <th>pixel781</th>\n",
              "      <th>pixel782</th>\n",
              "      <th>pixel783</th>\n",
              "    </tr>\n",
              "  </thead>\n",
              "  <tbody>\n",
              "    <tr>\n",
              "      <th>0</th>\n",
              "      <td>0</td>\n",
              "      <td>0</td>\n",
              "      <td>0</td>\n",
              "      <td>0</td>\n",
              "      <td>0</td>\n",
              "      <td>0</td>\n",
              "      <td>0</td>\n",
              "      <td>0</td>\n",
              "      <td>0</td>\n",
              "      <td>0</td>\n",
              "      <td>...</td>\n",
              "      <td>0</td>\n",
              "      <td>0</td>\n",
              "      <td>0</td>\n",
              "      <td>0</td>\n",
              "      <td>0</td>\n",
              "      <td>0</td>\n",
              "      <td>0</td>\n",
              "      <td>0</td>\n",
              "      <td>0</td>\n",
              "      <td>0</td>\n",
              "    </tr>\n",
              "    <tr>\n",
              "      <th>1</th>\n",
              "      <td>0</td>\n",
              "      <td>0</td>\n",
              "      <td>0</td>\n",
              "      <td>0</td>\n",
              "      <td>0</td>\n",
              "      <td>0</td>\n",
              "      <td>0</td>\n",
              "      <td>0</td>\n",
              "      <td>0</td>\n",
              "      <td>0</td>\n",
              "      <td>...</td>\n",
              "      <td>0</td>\n",
              "      <td>0</td>\n",
              "      <td>0</td>\n",
              "      <td>0</td>\n",
              "      <td>0</td>\n",
              "      <td>0</td>\n",
              "      <td>0</td>\n",
              "      <td>0</td>\n",
              "      <td>0</td>\n",
              "      <td>0</td>\n",
              "    </tr>\n",
              "    <tr>\n",
              "      <th>2</th>\n",
              "      <td>0</td>\n",
              "      <td>0</td>\n",
              "      <td>0</td>\n",
              "      <td>0</td>\n",
              "      <td>0</td>\n",
              "      <td>0</td>\n",
              "      <td>0</td>\n",
              "      <td>0</td>\n",
              "      <td>0</td>\n",
              "      <td>0</td>\n",
              "      <td>...</td>\n",
              "      <td>0</td>\n",
              "      <td>0</td>\n",
              "      <td>0</td>\n",
              "      <td>0</td>\n",
              "      <td>0</td>\n",
              "      <td>0</td>\n",
              "      <td>0</td>\n",
              "      <td>0</td>\n",
              "      <td>0</td>\n",
              "      <td>0</td>\n",
              "    </tr>\n",
              "    <tr>\n",
              "      <th>3</th>\n",
              "      <td>0</td>\n",
              "      <td>0</td>\n",
              "      <td>0</td>\n",
              "      <td>0</td>\n",
              "      <td>0</td>\n",
              "      <td>0</td>\n",
              "      <td>0</td>\n",
              "      <td>0</td>\n",
              "      <td>0</td>\n",
              "      <td>0</td>\n",
              "      <td>...</td>\n",
              "      <td>0</td>\n",
              "      <td>0</td>\n",
              "      <td>0</td>\n",
              "      <td>0</td>\n",
              "      <td>0</td>\n",
              "      <td>0</td>\n",
              "      <td>0</td>\n",
              "      <td>0</td>\n",
              "      <td>0</td>\n",
              "      <td>0</td>\n",
              "    </tr>\n",
              "    <tr>\n",
              "      <th>4</th>\n",
              "      <td>0</td>\n",
              "      <td>0</td>\n",
              "      <td>0</td>\n",
              "      <td>0</td>\n",
              "      <td>0</td>\n",
              "      <td>0</td>\n",
              "      <td>0</td>\n",
              "      <td>0</td>\n",
              "      <td>0</td>\n",
              "      <td>0</td>\n",
              "      <td>...</td>\n",
              "      <td>0</td>\n",
              "      <td>0</td>\n",
              "      <td>0</td>\n",
              "      <td>0</td>\n",
              "      <td>0</td>\n",
              "      <td>0</td>\n",
              "      <td>0</td>\n",
              "      <td>0</td>\n",
              "      <td>0</td>\n",
              "      <td>0</td>\n",
              "    </tr>\n",
              "  </tbody>\n",
              "</table>\n",
              "<p>5 rows × 784 columns</p>\n",
              "</div>\n",
              "    <div class=\"colab-df-buttons\">\n",
              "\n",
              "  <div class=\"colab-df-container\">\n",
              "    <button class=\"colab-df-convert\" onclick=\"convertToInteractive('df-632cc645-bdb5-42c3-afd1-16eb920606dd')\"\n",
              "            title=\"Convert this dataframe to an interactive table.\"\n",
              "            style=\"display:none;\">\n",
              "\n",
              "  <svg xmlns=\"http://www.w3.org/2000/svg\" height=\"24px\" viewBox=\"0 -960 960 960\">\n",
              "    <path d=\"M120-120v-720h720v720H120Zm60-500h600v-160H180v160Zm220 220h160v-160H400v160Zm0 220h160v-160H400v160ZM180-400h160v-160H180v160Zm440 0h160v-160H620v160ZM180-180h160v-160H180v160Zm440 0h160v-160H620v160Z\"/>\n",
              "  </svg>\n",
              "    </button>\n",
              "\n",
              "  <style>\n",
              "    .colab-df-container {\n",
              "      display:flex;\n",
              "      gap: 12px;\n",
              "    }\n",
              "\n",
              "    .colab-df-convert {\n",
              "      background-color: #E8F0FE;\n",
              "      border: none;\n",
              "      border-radius: 50%;\n",
              "      cursor: pointer;\n",
              "      display: none;\n",
              "      fill: #1967D2;\n",
              "      height: 32px;\n",
              "      padding: 0 0 0 0;\n",
              "      width: 32px;\n",
              "    }\n",
              "\n",
              "    .colab-df-convert:hover {\n",
              "      background-color: #E2EBFA;\n",
              "      box-shadow: 0px 1px 2px rgba(60, 64, 67, 0.3), 0px 1px 3px 1px rgba(60, 64, 67, 0.15);\n",
              "      fill: #174EA6;\n",
              "    }\n",
              "\n",
              "    .colab-df-buttons div {\n",
              "      margin-bottom: 4px;\n",
              "    }\n",
              "\n",
              "    [theme=dark] .colab-df-convert {\n",
              "      background-color: #3B4455;\n",
              "      fill: #D2E3FC;\n",
              "    }\n",
              "\n",
              "    [theme=dark] .colab-df-convert:hover {\n",
              "      background-color: #434B5C;\n",
              "      box-shadow: 0px 1px 3px 1px rgba(0, 0, 0, 0.15);\n",
              "      filter: drop-shadow(0px 1px 2px rgba(0, 0, 0, 0.3));\n",
              "      fill: #FFFFFF;\n",
              "    }\n",
              "  </style>\n",
              "\n",
              "    <script>\n",
              "      const buttonEl =\n",
              "        document.querySelector('#df-632cc645-bdb5-42c3-afd1-16eb920606dd button.colab-df-convert');\n",
              "      buttonEl.style.display =\n",
              "        google.colab.kernel.accessAllowed ? 'block' : 'none';\n",
              "\n",
              "      async function convertToInteractive(key) {\n",
              "        const element = document.querySelector('#df-632cc645-bdb5-42c3-afd1-16eb920606dd');\n",
              "        const dataTable =\n",
              "          await google.colab.kernel.invokeFunction('convertToInteractive',\n",
              "                                                    [key], {});\n",
              "        if (!dataTable) return;\n",
              "\n",
              "        const docLinkHtml = 'Like what you see? Visit the ' +\n",
              "          '<a target=\"_blank\" href=https://colab.research.google.com/notebooks/data_table.ipynb>data table notebook</a>'\n",
              "          + ' to learn more about interactive tables.';\n",
              "        element.innerHTML = '';\n",
              "        dataTable['output_type'] = 'display_data';\n",
              "        await google.colab.output.renderOutput(dataTable, element);\n",
              "        const docLink = document.createElement('div');\n",
              "        docLink.innerHTML = docLinkHtml;\n",
              "        element.appendChild(docLink);\n",
              "      }\n",
              "    </script>\n",
              "  </div>\n",
              "\n",
              "\n",
              "    <div id=\"df-f53b86e5-8cf6-4364-adb6-14327647c499\">\n",
              "      <button class=\"colab-df-quickchart\" onclick=\"quickchart('df-f53b86e5-8cf6-4364-adb6-14327647c499')\"\n",
              "                title=\"Suggest charts\"\n",
              "                style=\"display:none;\">\n",
              "\n",
              "<svg xmlns=\"http://www.w3.org/2000/svg\" height=\"24px\"viewBox=\"0 0 24 24\"\n",
              "     width=\"24px\">\n",
              "    <g>\n",
              "        <path d=\"M19 3H5c-1.1 0-2 .9-2 2v14c0 1.1.9 2 2 2h14c1.1 0 2-.9 2-2V5c0-1.1-.9-2-2-2zM9 17H7v-7h2v7zm4 0h-2V7h2v10zm4 0h-2v-4h2v4z\"/>\n",
              "    </g>\n",
              "</svg>\n",
              "      </button>\n",
              "\n",
              "<style>\n",
              "  .colab-df-quickchart {\n",
              "      --bg-color: #E8F0FE;\n",
              "      --fill-color: #1967D2;\n",
              "      --hover-bg-color: #E2EBFA;\n",
              "      --hover-fill-color: #174EA6;\n",
              "      --disabled-fill-color: #AAA;\n",
              "      --disabled-bg-color: #DDD;\n",
              "  }\n",
              "\n",
              "  [theme=dark] .colab-df-quickchart {\n",
              "      --bg-color: #3B4455;\n",
              "      --fill-color: #D2E3FC;\n",
              "      --hover-bg-color: #434B5C;\n",
              "      --hover-fill-color: #FFFFFF;\n",
              "      --disabled-bg-color: #3B4455;\n",
              "      --disabled-fill-color: #666;\n",
              "  }\n",
              "\n",
              "  .colab-df-quickchart {\n",
              "    background-color: var(--bg-color);\n",
              "    border: none;\n",
              "    border-radius: 50%;\n",
              "    cursor: pointer;\n",
              "    display: none;\n",
              "    fill: var(--fill-color);\n",
              "    height: 32px;\n",
              "    padding: 0;\n",
              "    width: 32px;\n",
              "  }\n",
              "\n",
              "  .colab-df-quickchart:hover {\n",
              "    background-color: var(--hover-bg-color);\n",
              "    box-shadow: 0 1px 2px rgba(60, 64, 67, 0.3), 0 1px 3px 1px rgba(60, 64, 67, 0.15);\n",
              "    fill: var(--button-hover-fill-color);\n",
              "  }\n",
              "\n",
              "  .colab-df-quickchart-complete:disabled,\n",
              "  .colab-df-quickchart-complete:disabled:hover {\n",
              "    background-color: var(--disabled-bg-color);\n",
              "    fill: var(--disabled-fill-color);\n",
              "    box-shadow: none;\n",
              "  }\n",
              "\n",
              "  .colab-df-spinner {\n",
              "    border: 2px solid var(--fill-color);\n",
              "    border-color: transparent;\n",
              "    border-bottom-color: var(--fill-color);\n",
              "    animation:\n",
              "      spin 1s steps(1) infinite;\n",
              "  }\n",
              "\n",
              "  @keyframes spin {\n",
              "    0% {\n",
              "      border-color: transparent;\n",
              "      border-bottom-color: var(--fill-color);\n",
              "      border-left-color: var(--fill-color);\n",
              "    }\n",
              "    20% {\n",
              "      border-color: transparent;\n",
              "      border-left-color: var(--fill-color);\n",
              "      border-top-color: var(--fill-color);\n",
              "    }\n",
              "    30% {\n",
              "      border-color: transparent;\n",
              "      border-left-color: var(--fill-color);\n",
              "      border-top-color: var(--fill-color);\n",
              "      border-right-color: var(--fill-color);\n",
              "    }\n",
              "    40% {\n",
              "      border-color: transparent;\n",
              "      border-right-color: var(--fill-color);\n",
              "      border-top-color: var(--fill-color);\n",
              "    }\n",
              "    60% {\n",
              "      border-color: transparent;\n",
              "      border-right-color: var(--fill-color);\n",
              "    }\n",
              "    80% {\n",
              "      border-color: transparent;\n",
              "      border-right-color: var(--fill-color);\n",
              "      border-bottom-color: var(--fill-color);\n",
              "    }\n",
              "    90% {\n",
              "      border-color: transparent;\n",
              "      border-bottom-color: var(--fill-color);\n",
              "    }\n",
              "  }\n",
              "</style>\n",
              "\n",
              "      <script>\n",
              "        async function quickchart(key) {\n",
              "          const quickchartButtonEl =\n",
              "            document.querySelector('#' + key + ' button');\n",
              "          quickchartButtonEl.disabled = true;  // To prevent multiple clicks.\n",
              "          quickchartButtonEl.classList.add('colab-df-spinner');\n",
              "          try {\n",
              "            const charts = await google.colab.kernel.invokeFunction(\n",
              "                'suggestCharts', [key], {});\n",
              "          } catch (error) {\n",
              "            console.error('Error during call to suggestCharts:', error);\n",
              "          }\n",
              "          quickchartButtonEl.classList.remove('colab-df-spinner');\n",
              "          quickchartButtonEl.classList.add('colab-df-quickchart-complete');\n",
              "        }\n",
              "        (() => {\n",
              "          let quickchartButtonEl =\n",
              "            document.querySelector('#df-f53b86e5-8cf6-4364-adb6-14327647c499 button');\n",
              "          quickchartButtonEl.style.display =\n",
              "            google.colab.kernel.accessAllowed ? 'block' : 'none';\n",
              "        })();\n",
              "      </script>\n",
              "    </div>\n",
              "\n",
              "    </div>\n",
              "  </div>\n"
            ],
            "application/vnd.google.colaboratory.intrinsic+json": {
              "type": "dataframe",
              "variable_name": "train2"
            }
          },
          "metadata": {},
          "execution_count": 4
        }
      ],
      "source": [
        "test = pd.read_csv(ruta_test)\n",
        "train = pd.read_csv(ruta_train)\n",
        "\n",
        "# El \"train\" tiene una columna adicional. Las \"Etiquetas\"\n",
        "# Esto sirve para entrenar el modelo.\n",
        "\n",
        "train2 = train.drop('label',axis=1)\n",
        "labels = train.pop('label')\n",
        "# De paso, vemos qué tienen\n",
        "train2.head()"
      ]
    },
    {
      "cell_type": "code",
      "execution_count": null,
      "id": "dcb062b7",
      "metadata": {
        "execution": {
          "iopub.execute_input": "2022-11-04T02:17:01.877973Z",
          "iopub.status.busy": "2022-11-04T02:17:01.877579Z",
          "iopub.status.idle": "2022-11-04T02:17:01.885051Z",
          "shell.execute_reply": "2022-11-04T02:17:01.883777Z"
        },
        "papermill": {
          "duration": 0.019215,
          "end_time": "2022-11-04T02:17:01.887289",
          "exception": false,
          "start_time": "2022-11-04T02:17:01.868074",
          "status": "completed"
        },
        "tags": [],
        "id": "dcb062b7",
        "colab": {
          "base_uri": "https://localhost:8080/"
        },
        "outputId": "497839ac-c23b-4716-f81a-e5ee9786cf43"
      },
      "outputs": [
        {
          "output_type": "execute_result",
          "data": {
            "text/plain": [
              "((28000, 784), (42000, 784))"
            ]
          },
          "metadata": {},
          "execution_count": 5
        }
      ],
      "source": [
        "test.shape,train.shape"
      ]
    },
    {
      "cell_type": "markdown",
      "source": [
        "# 2. Evaluamos el proceso y preparamos los datos"
      ],
      "metadata": {
        "id": "Psm6QexFxhc2"
      },
      "id": "Psm6QexFxhc2"
    },
    {
      "cell_type": "markdown",
      "id": "b11d197e",
      "metadata": {
        "papermill": {
          "duration": 0.006323,
          "end_time": "2022-11-04T02:17:01.900607",
          "exception": false,
          "start_time": "2022-11-04T02:17:01.894284",
          "status": "completed"
        },
        "tags": [],
        "id": "b11d197e"
      },
      "source": [
        "Vamos a tratar de graficar algo. Primero tenemos que identificar que a cada fila (de 784 columnas/píxeles) en realidad corresponden a un cuadrado de 28x28"
      ]
    },
    {
      "cell_type": "markdown",
      "source": [
        "Lo que tenemos como una fila, en realidad es ésto:\n",
        "\n",
        "![cfi41.jpg](data:image/jpeg;base64,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)"
      ],
      "metadata": {
        "id": "UzEZwbtyjoee"
      },
      "id": "UzEZwbtyjoee"
    },
    {
      "cell_type": "code",
      "execution_count": null,
      "id": "de1809c6",
      "metadata": {
        "execution": {
          "iopub.execute_input": "2022-11-04T02:17:01.915741Z",
          "iopub.status.busy": "2022-11-04T02:17:01.915332Z",
          "iopub.status.idle": "2022-11-04T02:17:02.137109Z",
          "shell.execute_reply": "2022-11-04T02:17:02.135732Z"
        },
        "papermill": {
          "duration": 0.232375,
          "end_time": "2022-11-04T02:17:02.139711",
          "exception": false,
          "start_time": "2022-11-04T02:17:01.907336",
          "status": "completed"
        },
        "tags": [],
        "id": "de1809c6",
        "colab": {
          "base_uri": "https://localhost:8080/",
          "height": 539
        },
        "outputId": "e854c846-fee2-4d1d-8a84-ce997fb81f0d"
      },
      "outputs": [
        {
          "output_type": "stream",
          "name": "stdout",
          "text": [
            "Train Data shape      : (28, 28, 1)\n",
            "Test Data shape       : (28, 28, 1)\n"
          ]
        },
        {
          "output_type": "execute_result",
          "data": {
            "text/plain": [
              "<matplotlib.image.AxesImage at 0x7cd2f154ce90>"
            ]
          },
          "metadata": {},
          "execution_count": 6
        },
        {
          "output_type": "display_data",
          "data": {
            "text/plain": [
              "<Figure size 640x480 with 1 Axes>"
            ],
            "image/png": "[encoded data removed]"
          },
          "metadata": {}
        }
      ],
      "source": [
        "# Reshape \"reordena\" los píxeles, de una sola fila de 784 valores,\n",
        "# a una matriz de 28x28 píxeles.\n",
        "x_train = train2.values[101].reshape( 28, 28, 1)\n",
        "x_test  = test.values[101].reshape(28, 28, 1)\n",
        "\n",
        "print('Train Data shape      :', x_train.shape)\n",
        "print('Test Data shape       :', x_test.shape)\n",
        "\n",
        "# Mostramos la imagen\n",
        "plt.imshow(x_test)"
      ]
    },
    {
      "cell_type": "markdown",
      "id": "7b7d64cb",
      "metadata": {
        "papermill": {
          "duration": 0.006797,
          "end_time": "2022-11-04T02:17:02.153449",
          "exception": false,
          "start_time": "2022-11-04T02:17:02.146652",
          "status": "completed"
        },
        "tags": [],
        "id": "7b7d64cb"
      },
      "source": [
        "Éxito! Ahora tratemos de graficar 1 número aleatorio, y ahora sí le damos forma al array. Tenemos que hacer reshape de TODO el dataset.\n"
      ]
    },
    {
      "cell_type": "code",
      "execution_count": null,
      "id": "4ac35a93",
      "metadata": {
        "execution": {
          "iopub.execute_input": "2022-11-04T02:17:02.169401Z",
          "iopub.status.busy": "2022-11-04T02:17:02.168979Z",
          "iopub.status.idle": "2022-11-04T02:17:02.442399Z",
          "shell.execute_reply": "2022-11-04T02:17:02.441355Z"
        },
        "papermill": {
          "duration": 0.284412,
          "end_time": "2022-11-04T02:17:02.444865",
          "exception": false,
          "start_time": "2022-11-04T02:17:02.160453",
          "status": "completed"
        },
        "tags": [],
        "id": "4ac35a93",
        "colab": {
          "base_uri": "https://localhost:8080/",
          "height": 504
        },
        "outputId": "742da1f3-b2ff-4dc2-b258-e66518b552a3"
      },
      "outputs": [
        {
          "output_type": "execute_result",
          "data": {
            "text/plain": [
              "<matplotlib.image.AxesImage at 0x7cd2ef142410>"
            ]
          },
          "metadata": {},
          "execution_count": 15
        },
        {
          "output_type": "display_data",
          "data": {
            "text/plain": [
              "<Figure size 640x480 with 1 Axes>"
            ],
            "image/png": "[encoded data removed]"
          },
          "metadata": {}
        }
      ],
      "source": [
        "test_RS = test.values.reshape(test.shape[0],28,28)\n",
        "test_RS.shape\n",
        "\n",
        "i = random.randint(0, test.shape[0])\n",
        "\n",
        "plt.imshow(test_RS[i])"
      ]
    },
    {
      "cell_type": "markdown",
      "id": "e02a404c",
      "metadata": {
        "papermill": {
          "duration": 0.006915,
          "end_time": "2022-11-04T02:17:02.459094",
          "exception": false,
          "start_time": "2022-11-04T02:17:02.452179",
          "status": "completed"
        },
        "tags": [],
        "id": "e02a404c"
      },
      "source": [
        "Con el train, tenemos que hacer lo mismo, pero ésta vez le tenemos que agregar la columna \"label\" que le sacamos"
      ]
    },
    {
      "cell_type": "code",
      "execution_count": null,
      "id": "86f4300a",
      "metadata": {
        "execution": {
          "iopub.execute_input": "2022-11-04T02:17:02.475412Z",
          "iopub.status.busy": "2022-11-04T02:17:02.474970Z",
          "iopub.status.idle": "2022-11-04T02:17:03.207722Z",
          "shell.execute_reply": "2022-11-04T02:17:03.206461Z"
        },
        "papermill": {
          "duration": 0.744267,
          "end_time": "2022-11-04T02:17:03.210715",
          "exception": false,
          "start_time": "2022-11-04T02:17:02.466448",
          "status": "completed"
        },
        "tags": [],
        "id": "86f4300a",
        "colab": {
          "base_uri": "https://localhost:8080/",
          "height": 507
        },
        "outputId": "2efbdd77-baf9-4e77-fe9e-8a4dac28b9a1"
      },
      "outputs": [
        {
          "output_type": "display_data",
          "data": {
            "text/plain": [
              "<Figure size 500x500 with 16 Axes>"
            ],
            "image/png": "[encoded data removed]"
          },
          "metadata": {}
        }
      ],
      "source": [
        "train_RS = train2.values.reshape(train2.shape[0],28,28)\n",
        "train_RS.shape\n",
        "\n",
        "r = random.randint(0, train2.shape[0])\n",
        "\n",
        "\n",
        "plt.figure(figsize=(5,5))\n",
        "for i in range(16):\n",
        "    r = random.randint(0, train2.shape[0])\n",
        "    image = train_RS[r]\n",
        "    plt.subplot(4, 4, i+1)\n",
        "    plt.imshow(tf.squeeze(image))\n",
        "    plt.axis('off')\n",
        "plt.show()\n",
        "\n"
      ]
    },
    {
      "cell_type": "markdown",
      "id": "388aa817",
      "metadata": {
        "papermill": {
          "duration": 0.008097,
          "end_time": "2022-11-04T02:17:03.227270",
          "exception": false,
          "start_time": "2022-11-04T02:17:03.219173",
          "status": "completed"
        },
        "tags": [],
        "id": "388aa817"
      },
      "source": [
        "Definimos las variables para entrenamiento, y para testing"
      ]
    },
    {
      "cell_type": "code",
      "execution_count": null,
      "id": "3a12a463",
      "metadata": {
        "execution": {
          "iopub.execute_input": "2022-11-04T02:17:03.246559Z",
          "iopub.status.busy": "2022-11-04T02:17:03.245424Z",
          "iopub.status.idle": "2022-11-04T02:17:03.675319Z",
          "shell.execute_reply": "2022-11-04T02:17:03.673958Z"
        },
        "papermill": {
          "duration": 0.442042,
          "end_time": "2022-11-04T02:17:03.677729",
          "exception": false,
          "start_time": "2022-11-04T02:17:03.235687",
          "status": "completed"
        },
        "tags": [],
        "id": "3a12a463",
        "colab": {
          "base_uri": "https://localhost:8080/"
        },
        "outputId": "c0617af5-9c87-42f3-e753-e0ef36d43114"
      },
      "outputs": [
        {
          "output_type": "execute_result",
          "data": {
            "text/plain": [
              "((33600, 28, 28), (33600,))"
            ]
          },
          "metadata": {},
          "execution_count": 17
        }
      ],
      "source": [
        "X_train, X_test, y_train, y_test = train_test_split(train_RS, labels, test_size=0.2, random_state=42)\n",
        "X_train.shape,y_train.shape"
      ]
    },
    {
      "cell_type": "markdown",
      "source": [
        "# 3. Generar el modelo"
      ],
      "metadata": {
        "id": "11QcxgKkxrkA"
      },
      "id": "11QcxgKkxrkA"
    },
    {
      "cell_type": "markdown",
      "id": "c9948b1f",
      "metadata": {
        "papermill": {
          "duration": 0.008121,
          "end_time": "2022-11-04T02:17:03.694561",
          "exception": false,
          "start_time": "2022-11-04T02:17:03.686440",
          "status": "completed"
        },
        "tags": [],
        "id": "c9948b1f"
      },
      "source": [
        "definimos el modelo"
      ]
    },
    {
      "cell_type": "code",
      "execution_count": null,
      "id": "2b6197b4",
      "metadata": {
        "execution": {
          "iopub.execute_input": "2022-11-04T02:17:03.713935Z",
          "iopub.status.busy": "2022-11-04T02:17:03.712930Z",
          "iopub.status.idle": "2022-11-04T02:17:03.844980Z",
          "shell.execute_reply": "2022-11-04T02:17:03.843769Z"
        },
        "papermill": {
          "duration": 0.144606,
          "end_time": "2022-11-04T02:17:03.847824",
          "exception": false,
          "start_time": "2022-11-04T02:17:03.703218",
          "status": "completed"
        },
        "tags": [],
        "id": "2b6197b4"
      },
      "outputs": [],
      "source": [
        "modelo = keras.Sequential([\n",
        "    layers.Flatten(input_shape=(28, 28)),\n",
        "    layers.Dense(128, activation='relu'),\n",
        "    layers.Dropout(rate=0.3),\n",
        "    layers.BatchNormalization(),\n",
        "    layers.Dense(128, activation='relu'),\n",
        "    layers.Dense(10)\n",
        "])\n",
        "\n",
        "modelo.compile(\n",
        "    optimizer = 'adam',\n",
        "    loss = tf.keras.losses.SparseCategoricalCrossentropy(from_logits=True),\n",
        "    metrics=['accuracy'],\n",
        ")"
      ]
    },
    {
      "cell_type": "markdown",
      "source": [
        "# 4. Entrenar el modelo"
      ],
      "metadata": {
        "id": "CtxIRkiYxvAm"
      },
      "id": "CtxIRkiYxvAm"
    },
    {
      "cell_type": "markdown",
      "id": "6c04eab2",
      "metadata": {
        "papermill": {
          "duration": 0.008308,
          "end_time": "2022-11-04T02:17:03.864874",
          "exception": false,
          "start_time": "2022-11-04T02:17:03.856566",
          "status": "completed"
        },
        "tags": [],
        "id": "6c04eab2"
      },
      "source": [
        "*-Musica de Rocky-* Entrenamos el modelo\n"
      ]
    },
    {
      "cell_type": "code",
      "execution_count": null,
      "id": "829a8fda",
      "metadata": {
        "execution": {
          "iopub.execute_input": "2022-11-04T02:17:03.883897Z",
          "iopub.status.busy": "2022-11-04T02:17:03.883468Z",
          "iopub.status.idle": "2022-11-04T02:18:16.406727Z",
          "shell.execute_reply": "2022-11-04T02:18:16.405696Z"
        },
        "papermill": {
          "duration": 72.535524,
          "end_time": "2022-11-04T02:18:16.409104",
          "exception": false,
          "start_time": "2022-11-04T02:17:03.873580",
          "status": "completed"
        },
        "tags": [],
        "id": "829a8fda",
        "colab": {
          "base_uri": "https://localhost:8080/"
        },
        "outputId": "4625fdd2-a6f4-4732-cb6e-bf6c204e2ad7"
      },
      "outputs": [
        {
          "output_type": "stream",
          "name": "stdout",
          "text": [
            "Epoch 1/20\n",
            "\u001b[1m1050/1050\u001b[0m \u001b[32m━━━━━━━━━━━━━━━━━━━━\u001b[0m\u001b[37m\u001b[0m \u001b[1m6s\u001b[0m 4ms/step - accuracy: 0.8114 - loss: 0.6076\n",
            "Epoch 2/20\n",
            "\u001b[1m1050/1050\u001b[0m \u001b[32m━━━━━━━━━━━━━━━━━━━━\u001b[0m\u001b[37m\u001b[0m \u001b[1m5s\u001b[0m 4ms/step - accuracy: 0.9285 - loss: 0.2322\n",
            "Epoch 3/20\n",
            "\u001b[1m1050/1050\u001b[0m \u001b[32m━━━━━━━━━━━━━━━━━━━━\u001b[0m\u001b[37m\u001b[0m \u001b[1m4s\u001b[0m 4ms/step - accuracy: 0.9416 - loss: 0.1842\n",
            "Epoch 4/20\n",
            "\u001b[1m1050/1050\u001b[0m \u001b[32m━━━━━━━━━━━━━━━━━━━━\u001b[0m\u001b[37m\u001b[0m \u001b[1m5s\u001b[0m 5ms/step - accuracy: 0.9468 - loss: 0.1639\n",
            "Epoch 5/20\n",
            "\u001b[1m1050/1050\u001b[0m \u001b[32m━━━━━━━━━━━━━━━━━━━━\u001b[0m\u001b[37m\u001b[0m \u001b[1m4s\u001b[0m 4ms/step - accuracy: 0.9548 - loss: 0.1409\n",
            "Epoch 6/20\n",
            "\u001b[1m1050/1050\u001b[0m \u001b[32m━━━━━━━━━━━━━━━━━━━━\u001b[0m\u001b[37m\u001b[0m \u001b[1m4s\u001b[0m 4ms/step - accuracy: 0.9527 - loss: 0.1454\n",
            "Epoch 7/20\n",
            "\u001b[1m1050/1050\u001b[0m \u001b[32m━━━━━━━━━━━━━━━━━━━━\u001b[0m\u001b[37m\u001b[0m \u001b[1m5s\u001b[0m 5ms/step - accuracy: 0.9586 - loss: 0.1313\n",
            "Epoch 8/20\n",
            "\u001b[1m1050/1050\u001b[0m \u001b[32m━━━━━━━━━━━━━━━━━━━━\u001b[0m\u001b[37m\u001b[0m \u001b[1m4s\u001b[0m 4ms/step - accuracy: 0.9602 - loss: 0.1230\n",
            "Epoch 9/20\n",
            "\u001b[1m1050/1050\u001b[0m \u001b[32m━━━━━━━━━━━━━━━━━━━━\u001b[0m\u001b[37m\u001b[0m \u001b[1m4s\u001b[0m 4ms/step - accuracy: 0.9655 - loss: 0.1076\n",
            "Epoch 10/20\n",
            "\u001b[1m1050/1050\u001b[0m \u001b[32m━━━━━━━━━━━━━━━━━━━━\u001b[0m\u001b[37m\u001b[0m \u001b[1m6s\u001b[0m 5ms/step - accuracy: 0.9660 - loss: 0.1030\n",
            "Epoch 11/20\n",
            "\u001b[1m1050/1050\u001b[0m \u001b[32m━━━━━━━━━━━━━━━━━━━━\u001b[0m\u001b[37m\u001b[0m \u001b[1m4s\u001b[0m 4ms/step - accuracy: 0.9654 - loss: 0.1076\n",
            "Epoch 12/20\n",
            "\u001b[1m1050/1050\u001b[0m \u001b[32m━━━━━━━━━━━━━━━━━━━━\u001b[0m\u001b[37m\u001b[0m \u001b[1m5s\u001b[0m 4ms/step - accuracy: 0.9688 - loss: 0.0936\n",
            "Epoch 13/20\n",
            "\u001b[1m1050/1050\u001b[0m \u001b[32m━━━━━━━━━━━━━━━━━━━━\u001b[0m\u001b[37m\u001b[0m \u001b[1m5s\u001b[0m 4ms/step - accuracy: 0.9717 - loss: 0.0878\n",
            "Epoch 14/20\n",
            "\u001b[1m1050/1050\u001b[0m \u001b[32m━━━━━━━━━━━━━━━━━━━━\u001b[0m\u001b[37m\u001b[0m \u001b[1m5s\u001b[0m 4ms/step - accuracy: 0.9701 - loss: 0.0903\n",
            "Epoch 15/20\n",
            "\u001b[1m1050/1050\u001b[0m \u001b[32m━━━━━━━━━━━━━━━━━━━━\u001b[0m\u001b[37m\u001b[0m \u001b[1m5s\u001b[0m 5ms/step - accuracy: 0.9702 - loss: 0.0892\n",
            "Epoch 16/20\n",
            "\u001b[1m1050/1050\u001b[0m \u001b[32m━━━━━━━━━━━━━━━━━━━━\u001b[0m\u001b[37m\u001b[0m \u001b[1m9s\u001b[0m 4ms/step - accuracy: 0.9697 - loss: 0.0877\n",
            "Epoch 17/20\n",
            "\u001b[1m1050/1050\u001b[0m \u001b[32m━━━━━━━━━━━━━━━━━━━━\u001b[0m\u001b[37m\u001b[0m \u001b[1m5s\u001b[0m 4ms/step - accuracy: 0.9743 - loss: 0.0761\n",
            "Epoch 18/20\n",
            "\u001b[1m1050/1050\u001b[0m \u001b[32m━━━━━━━━━━━━━━━━━━━━\u001b[0m\u001b[37m\u001b[0m \u001b[1m4s\u001b[0m 4ms/step - accuracy: 0.9735 - loss: 0.0793\n",
            "Epoch 19/20\n",
            "\u001b[1m1050/1050\u001b[0m \u001b[32m━━━━━━━━━━━━━━━━━━━━\u001b[0m\u001b[37m\u001b[0m \u001b[1m6s\u001b[0m 5ms/step - accuracy: 0.9745 - loss: 0.0745\n",
            "Epoch 20/20\n",
            "\u001b[1m1050/1050\u001b[0m \u001b[32m━━━━━━━━━━━━━━━━━━━━\u001b[0m\u001b[37m\u001b[0m \u001b[1m4s\u001b[0m 4ms/step - accuracy: 0.9748 - loss: 0.0739\n"
          ]
        },
        {
          "output_type": "execute_result",
          "data": {
            "text/plain": [
              "<keras.src.callbacks.history.History at 0x7cd2f1352a50>"
            ]
          },
          "metadata": {},
          "execution_count": 19
        }
      ],
      "source": [
        "modelo.fit(\n",
        "    X_train,y_train,\n",
        "    epochs=20,\n",
        ")"
      ]
    },
    {
      "cell_type": "markdown",
      "source": [
        "# 5. Realizar inferencias"
      ],
      "metadata": {
        "id": "qQy3LPBvxzv_"
      },
      "id": "qQy3LPBvxzv_"
    },
    {
      "cell_type": "markdown",
      "id": "3d0fef87",
      "metadata": {
        "papermill": {
          "duration": 0.092594,
          "end_time": "2022-11-04T02:18:16.595565",
          "exception": false,
          "start_time": "2022-11-04T02:18:16.502971",
          "status": "completed"
        },
        "tags": [],
        "id": "3d0fef87"
      },
      "source": [
        "Listo! A probar..."
      ]
    },
    {
      "cell_type": "code",
      "execution_count": null,
      "id": "acc8fd37",
      "metadata": {
        "execution": {
          "iopub.execute_input": "2022-11-04T02:18:16.783063Z",
          "iopub.status.busy": "2022-11-04T02:18:16.782641Z",
          "iopub.status.idle": "2022-11-04T02:18:17.526807Z",
          "shell.execute_reply": "2022-11-04T02:18:17.524856Z"
        },
        "papermill": {
          "duration": 0.841729,
          "end_time": "2022-11-04T02:18:17.529525",
          "exception": false,
          "start_time": "2022-11-04T02:18:16.687796",
          "status": "completed"
        },
        "tags": [],
        "id": "acc8fd37",
        "colab": {
          "base_uri": "https://localhost:8080/"
        },
        "outputId": "296a4ad4-cf6e-45bd-816d-6aa60e51662c"
      },
      "outputs": [
        {
          "output_type": "stream",
          "name": "stdout",
          "text": [
            "263/263 - 1s - 4ms/step - accuracy: 0.9765 - loss: 0.1083\n",
            "\n",
            "Test accuracy: 0.9765475988388062\n"
          ]
        }
      ],
      "source": [
        "test_loss, test_acc = modelo.evaluate(X_test, y_test, verbose=2)\n",
        "\n",
        "print('\\nTest accuracy:', test_acc)"
      ]
    },
    {
      "cell_type": "markdown",
      "source": [
        "# 6. Crear predicciones"
      ],
      "metadata": {
        "id": "GmBKK-dkx5iv"
      },
      "id": "GmBKK-dkx5iv"
    },
    {
      "cell_type": "code",
      "execution_count": null,
      "id": "c4128fa1",
      "metadata": {
        "execution": {
          "iopub.execute_input": "2022-11-04T02:18:17.717072Z",
          "iopub.status.busy": "2022-11-04T02:18:17.716392Z",
          "iopub.status.idle": "2022-11-04T02:18:19.585719Z",
          "shell.execute_reply": "2022-11-04T02:18:19.584476Z"
        },
        "papermill": {
          "duration": 1.966512,
          "end_time": "2022-11-04T02:18:19.588844",
          "exception": false,
          "start_time": "2022-11-04T02:18:17.622332",
          "status": "completed"
        },
        "tags": [],
        "id": "c4128fa1",
        "colab": {
          "base_uri": "https://localhost:8080/",
          "height": 224
        },
        "outputId": "371a501d-62a3-4ad5-9e77-55a3a7d2b487"
      },
      "outputs": [
        {
          "output_type": "stream",
          "name": "stdout",
          "text": [
            "\u001b[1m875/875\u001b[0m \u001b[32m━━━━━━━━━━━━━━━━━━━━\u001b[0m\u001b[37m\u001b[0m \u001b[1m1s\u001b[0m 1ms/step\n"
          ]
        },
        {
          "output_type": "execute_result",
          "data": {
            "text/plain": [
              "           0         1          2         3          4         5         6  \\\n",
              "0 -11.489173 -5.542310  17.605425  0.334167  -5.082538 -6.029871 -9.317859   \n",
              "1  11.143306 -1.636170  -2.228233 -5.589336  -8.124352 -1.756966  1.000821   \n",
              "2 -11.513072 -4.483815  -7.633738 -1.688172   2.560339 -4.942498 -9.298070   \n",
              "3   0.534215 -7.766057  -0.615997 -3.281760   0.778191 -5.661547 -3.288622   \n",
              "4  -7.699680 -3.917348   4.369331  9.399239 -15.616483 -1.485126 -9.753469   \n",
              "\n",
              "          7         8          9  \n",
              "0 -0.032709 -3.731726 -13.372145  \n",
              "1 -5.334692 -6.915381  -0.656259  \n",
              "2 -1.236275 -0.986816   7.419717  \n",
              "3 -1.926503 -1.756356   4.993669  \n",
              "4 -5.261430 -0.471407  -6.048678  "
            ],
            "text/html": [
              "\n",
              "  <div id=\"df-046c5240-c9b4-49c3-a666-2dafd60c0d20\" class=\"colab-df-container\">\n",
              "    <div>\n",
              "<style scoped>\n",
              "    .dataframe tbody tr th:only-of-type {\n",
              "        vertical-align: middle;\n",
              "    }\n",
              "\n",
              "    .dataframe tbody tr th {\n",
              "        vertical-align: top;\n",
              "    }\n",
              "\n",
              "    .dataframe thead th {\n",
              "        text-align: right;\n",
              "    }\n",
              "</style>\n",
              "<table border=\"1\" class=\"dataframe\">\n",
              "  <thead>\n",
              "    <tr style=\"text-align: right;\">\n",
              "      <th></th>\n",
              "      <th>0</th>\n",
              "      <th>1</th>\n",
              "      <th>2</th>\n",
              "      <th>3</th>\n",
              "      <th>4</th>\n",
              "      <th>5</th>\n",
              "      <th>6</th>\n",
              "      <th>7</th>\n",
              "      <th>8</th>\n",
              "      <th>9</th>\n",
              "    </tr>\n",
              "  </thead>\n",
              "  <tbody>\n",
              "    <tr>\n",
              "      <th>0</th>\n",
              "      <td>-11.489173</td>\n",
              "      <td>-5.542310</td>\n",
              "      <td>17.605425</td>\n",
              "      <td>0.334167</td>\n",
              "      <td>-5.082538</td>\n",
              "      <td>-6.029871</td>\n",
              "      <td>-9.317859</td>\n",
              "      <td>-0.032709</td>\n",
              "      <td>-3.731726</td>\n",
              "      <td>-13.372145</td>\n",
              "    </tr>\n",
              "    <tr>\n",
              "      <th>1</th>\n",
              "      <td>11.143306</td>\n",
              "      <td>-1.636170</td>\n",
              "      <td>-2.228233</td>\n",
              "      <td>-5.589336</td>\n",
              "      <td>-8.124352</td>\n",
              "      <td>-1.756966</td>\n",
              "      <td>1.000821</td>\n",
              "      <td>-5.334692</td>\n",
              "      <td>-6.915381</td>\n",
              "      <td>-0.656259</td>\n",
              "    </tr>\n",
              "    <tr>\n",
              "      <th>2</th>\n",
              "      <td>-11.513072</td>\n",
              "      <td>-4.483815</td>\n",
              "      <td>-7.633738</td>\n",
              "      <td>-1.688172</td>\n",
              "      <td>2.560339</td>\n",
              "      <td>-4.942498</td>\n",
              "      <td>-9.298070</td>\n",
              "      <td>-1.236275</td>\n",
              "      <td>-0.986816</td>\n",
              "      <td>7.419717</td>\n",
              "    </tr>\n",
              "    <tr>\n",
              "      <th>3</th>\n",
              "      <td>0.534215</td>\n",
              "      <td>-7.766057</td>\n",
              "      <td>-0.615997</td>\n",
              "      <td>-3.281760</td>\n",
              "      <td>0.778191</td>\n",
              "      <td>-5.661547</td>\n",
              "      <td>-3.288622</td>\n",
              "      <td>-1.926503</td>\n",
              "      <td>-1.756356</td>\n",
              "      <td>4.993669</td>\n",
              "    </tr>\n",
              "    <tr>\n",
              "      <th>4</th>\n",
              "      <td>-7.699680</td>\n",
              "      <td>-3.917348</td>\n",
              "      <td>4.369331</td>\n",
              "      <td>9.399239</td>\n",
              "      <td>-15.616483</td>\n",
              "      <td>-1.485126</td>\n",
              "      <td>-9.753469</td>\n",
              "      <td>-5.261430</td>\n",
              "      <td>-0.471407</td>\n",
              "      <td>-6.048678</td>\n",
              "    </tr>\n",
              "  </tbody>\n",
              "</table>\n",
              "</div>\n",
              "    <div class=\"colab-df-buttons\">\n",
              "\n",
              "  <div class=\"colab-df-container\">\n",
              "    <button class=\"colab-df-convert\" onclick=\"convertToInteractive('df-046c5240-c9b4-49c3-a666-2dafd60c0d20')\"\n",
              "            title=\"Convert this dataframe to an interactive table.\"\n",
              "            style=\"display:none;\">\n",
              "\n",
              "  <svg xmlns=\"http://www.w3.org/2000/svg\" height=\"24px\" viewBox=\"0 -960 960 960\">\n",
              "    <path d=\"M120-120v-720h720v720H120Zm60-500h600v-160H180v160Zm220 220h160v-160H400v160Zm0 220h160v-160H400v160ZM180-400h160v-160H180v160Zm440 0h160v-160H620v160ZM180-180h160v-160H180v160Zm440 0h160v-160H620v160Z\"/>\n",
              "  </svg>\n",
              "    </button>\n",
              "\n",
              "  <style>\n",
              "    .colab-df-container {\n",
              "      display:flex;\n",
              "      gap: 12px;\n",
              "    }\n",
              "\n",
              "    .colab-df-convert {\n",
              "      background-color: #E8F0FE;\n",
              "      border: none;\n",
              "      border-radius: 50%;\n",
              "      cursor: pointer;\n",
              "      display: none;\n",
              "      fill: #1967D2;\n",
              "      height: 32px;\n",
              "      padding: 0 0 0 0;\n",
              "      width: 32px;\n",
              "    }\n",
              "\n",
              "    .colab-df-convert:hover {\n",
              "      background-color: #E2EBFA;\n",
              "      box-shadow: 0px 1px 2px rgba(60, 64, 67, 0.3), 0px 1px 3px 1px rgba(60, 64, 67, 0.15);\n",
              "      fill: #174EA6;\n",
              "    }\n",
              "\n",
              "    .colab-df-buttons div {\n",
              "      margin-bottom: 4px;\n",
              "    }\n",
              "\n",
              "    [theme=dark] .colab-df-convert {\n",
              "      background-color: #3B4455;\n",
              "      fill: #D2E3FC;\n",
              "    }\n",
              "\n",
              "    [theme=dark] .colab-df-convert:hover {\n",
              "      background-color: #434B5C;\n",
              "      box-shadow: 0px 1px 3px 1px rgba(0, 0, 0, 0.15);\n",
              "      filter: drop-shadow(0px 1px 2px rgba(0, 0, 0, 0.3));\n",
              "      fill: #FFFFFF;\n",
              "    }\n",
              "  </style>\n",
              "\n",
              "    <script>\n",
              "      const buttonEl =\n",
              "        document.querySelector('#df-046c5240-c9b4-49c3-a666-2dafd60c0d20 button.colab-df-convert');\n",
              "      buttonEl.style.display =\n",
              "        google.colab.kernel.accessAllowed ? 'block' : 'none';\n",
              "\n",
              "      async function convertToInteractive(key) {\n",
              "        const element = document.querySelector('#df-046c5240-c9b4-49c3-a666-2dafd60c0d20');\n",
              "        const dataTable =\n",
              "          await google.colab.kernel.invokeFunction('convertToInteractive',\n",
              "                                                    [key], {});\n",
              "        if (!dataTable) return;\n",
              "\n",
              "        const docLinkHtml = 'Like what you see? Visit the ' +\n",
              "          '<a target=\"_blank\" href=https://colab.research.google.com/notebooks/data_table.ipynb>data table notebook</a>'\n",
              "          + ' to learn more about interactive tables.';\n",
              "        element.innerHTML = '';\n",
              "        dataTable['output_type'] = 'display_data';\n",
              "        await google.colab.output.renderOutput(dataTable, element);\n",
              "        const docLink = document.createElement('div');\n",
              "        docLink.innerHTML = docLinkHtml;\n",
              "        element.appendChild(docLink);\n",
              "      }\n",
              "    </script>\n",
              "  </div>\n",
              "\n",
              "\n",
              "    <div id=\"df-12f7fd7c-3504-466b-b841-0dbf765815c6\">\n",
              "      <button class=\"colab-df-quickchart\" onclick=\"quickchart('df-12f7fd7c-3504-466b-b841-0dbf765815c6')\"\n",
              "                title=\"Suggest charts\"\n",
              "                style=\"display:none;\">\n",
              "\n",
              "<svg xmlns=\"http://www.w3.org/2000/svg\" height=\"24px\"viewBox=\"0 0 24 24\"\n",
              "     width=\"24px\">\n",
              "    <g>\n",
              "        <path d=\"M19 3H5c-1.1 0-2 .9-2 2v14c0 1.1.9 2 2 2h14c1.1 0 2-.9 2-2V5c0-1.1-.9-2-2-2zM9 17H7v-7h2v7zm4 0h-2V7h2v10zm4 0h-2v-4h2v4z\"/>\n",
              "    </g>\n",
              "</svg>\n",
              "      </button>\n",
              "\n",
              "<style>\n",
              "  .colab-df-quickchart {\n",
              "      --bg-color: #E8F0FE;\n",
              "      --fill-color: #1967D2;\n",
              "      --hover-bg-color: #E2EBFA;\n",
              "      --hover-fill-color: #174EA6;\n",
              "      --disabled-fill-color: #AAA;\n",
              "      --disabled-bg-color: #DDD;\n",
              "  }\n",
              "\n",
              "  [theme=dark] .colab-df-quickchart {\n",
              "      --bg-color: #3B4455;\n",
              "      --fill-color: #D2E3FC;\n",
              "      --hover-bg-color: #434B5C;\n",
              "      --hover-fill-color: #FFFFFF;\n",
              "      --disabled-bg-color: #3B4455;\n",
              "      --disabled-fill-color: #666;\n",
              "  }\n",
              "\n",
              "  .colab-df-quickchart {\n",
              "    background-color: var(--bg-color);\n",
              "    border: none;\n",
              "    border-radius: 50%;\n",
              "    cursor: pointer;\n",
              "    display: none;\n",
              "    fill: var(--fill-color);\n",
              "    height: 32px;\n",
              "    padding: 0;\n",
              "    width: 32px;\n",
              "  }\n",
              "\n",
              "  .colab-df-quickchart:hover {\n",
              "    background-color: var(--hover-bg-color);\n",
              "    box-shadow: 0 1px 2px rgba(60, 64, 67, 0.3), 0 1px 3px 1px rgba(60, 64, 67, 0.15);\n",
              "    fill: var(--button-hover-fill-color);\n",
              "  }\n",
              "\n",
              "  .colab-df-quickchart-complete:disabled,\n",
              "  .colab-df-quickchart-complete:disabled:hover {\n",
              "    background-color: var(--disabled-bg-color);\n",
              "    fill: var(--disabled-fill-color);\n",
              "    box-shadow: none;\n",
              "  }\n",
              "\n",
              "  .colab-df-spinner {\n",
              "    border: 2px solid var(--fill-color);\n",
              "    border-color: transparent;\n",
              "    border-bottom-color: var(--fill-color);\n",
              "    animation:\n",
              "      spin 1s steps(1) infinite;\n",
              "  }\n",
              "\n",
              "  @keyframes spin {\n",
              "    0% {\n",
              "      border-color: transparent;\n",
              "      border-bottom-color: var(--fill-color);\n",
              "      border-left-color: var(--fill-color);\n",
              "    }\n",
              "    20% {\n",
              "      border-color: transparent;\n",
              "      border-left-color: var(--fill-color);\n",
              "      border-top-color: var(--fill-color);\n",
              "    }\n",
              "    30% {\n",
              "      border-color: transparent;\n",
              "      border-left-color: var(--fill-color);\n",
              "      border-top-color: var(--fill-color);\n",
              "      border-right-color: var(--fill-color);\n",
              "    }\n",
              "    40% {\n",
              "      border-color: transparent;\n",
              "      border-right-color: var(--fill-color);\n",
              "      border-top-color: var(--fill-color);\n",
              "    }\n",
              "    60% {\n",
              "      border-color: transparent;\n",
              "      border-right-color: var(--fill-color);\n",
              "    }\n",
              "    80% {\n",
              "      border-color: transparent;\n",
              "      border-right-color: var(--fill-color);\n",
              "      border-bottom-color: var(--fill-color);\n",
              "    }\n",
              "    90% {\n",
              "      border-color: transparent;\n",
              "      border-bottom-color: var(--fill-color);\n",
              "    }\n",
              "  }\n",
              "</style>\n",
              "\n",
              "      <script>\n",
              "        async function quickchart(key) {\n",
              "          const quickchartButtonEl =\n",
              "            document.querySelector('#' + key + ' button');\n",
              "          quickchartButtonEl.disabled = true;  // To prevent multiple clicks.\n",
              "          quickchartButtonEl.classList.add('colab-df-spinner');\n",
              "          try {\n",
              "            const charts = await google.colab.kernel.invokeFunction(\n",
              "                'suggestCharts', [key], {});\n",
              "          } catch (error) {\n",
              "            console.error('Error during call to suggestCharts:', error);\n",
              "          }\n",
              "          quickchartButtonEl.classList.remove('colab-df-spinner');\n",
              "          quickchartButtonEl.classList.add('colab-df-quickchart-complete');\n",
              "        }\n",
              "        (() => {\n",
              "          let quickchartButtonEl =\n",
              "            document.querySelector('#df-12f7fd7c-3504-466b-b841-0dbf765815c6 button');\n",
              "          quickchartButtonEl.style.display =\n",
              "            google.colab.kernel.accessAllowed ? 'block' : 'none';\n",
              "        })();\n",
              "      </script>\n",
              "    </div>\n",
              "\n",
              "    </div>\n",
              "  </div>\n"
            ],
            "application/vnd.google.colaboratory.intrinsic+json": {
              "type": "dataframe",
              "summary": "{\n  \"name\": \"# Y probamos\",\n  \"rows\": 5,\n  \"fields\": [\n    {\n      \"column\": 0,\n      \"properties\": {\n        \"dtype\": \"float32\",\n        \"num_unique_values\": 5,\n        \"samples\": [\n          11.143305778503418,\n          -7.699680328369141,\n          -11.51307201385498\n        ],\n        \"semantic_type\": \"\",\n        \"description\": \"\"\n      }\n    },\n    {\n      \"column\": 1,\n      \"properties\": {\n        \"dtype\": \"float32\",\n        \"num_unique_values\": 5,\n        \"samples\": [\n          -1.636169672012329,\n          -3.9173483848571777,\n          -4.4838151931762695\n        ],\n        \"semantic_type\": \"\",\n        \"description\": \"\"\n      }\n    },\n    {\n      \"column\": 2,\n      \"properties\": {\n        \"dtype\": \"float32\",\n        \"num_unique_values\": 5,\n        \"samples\": [\n          -2.2282326221466064,\n          4.369330883026123,\n          -7.633738040924072\n        ],\n        \"semantic_type\": \"\",\n        \"description\": \"\"\n      }\n    },\n    {\n      \"column\": 3,\n      \"properties\": {\n        \"dtype\": \"float32\",\n        \"num_unique_values\": 5,\n        \"samples\": [\n          -5.589335918426514,\n          9.399238586425781,\n          -1.6881719827651978\n        ],\n        \"semantic_type\": \"\",\n        \"description\": \"\"\n      }\n    },\n    {\n      \"column\": 4,\n      \"properties\": {\n        \"dtype\": \"float32\",\n        \"num_unique_values\": 5,\n        \"samples\": [\n          -8.12435245513916,\n          -15.616482734680176,\n          2.5603389739990234\n        ],\n        \"semantic_type\": \"\",\n        \"description\": \"\"\n      }\n    },\n    {\n      \"column\": 5,\n      \"properties\": {\n        \"dtype\": \"float32\",\n        \"num_unique_values\": 5,\n        \"samples\": [\n          -1.7569663524627686,\n          -1.4851263761520386,\n          -4.942497730255127\n        ],\n        \"semantic_type\": \"\",\n        \"description\": \"\"\n      }\n    },\n    {\n      \"column\": 6,\n      \"properties\": {\n        \"dtype\": \"float32\",\n        \"num_unique_values\": 5,\n        \"samples\": [\n          1.0008208751678467,\n          -9.753469467163086,\n          -9.298069953918457\n        ],\n        \"semantic_type\": \"\",\n        \"description\": \"\"\n      }\n    },\n    {\n      \"column\": 7,\n      \"properties\": {\n        \"dtype\": \"float32\",\n        \"num_unique_values\": 5,\n        \"samples\": [\n          -5.334691524505615,\n          -5.261430263519287,\n          -1.236275315284729\n        ],\n        \"semantic_type\": \"\",\n        \"description\": \"\"\n      }\n    },\n    {\n      \"column\": 8,\n      \"properties\": {\n        \"dtype\": \"float32\",\n        \"num_unique_values\": 5,\n        \"samples\": [\n          -6.915380954742432,\n          -0.4714071452617645,\n          -0.98681640625\n        ],\n        \"semantic_type\": \"\",\n        \"description\": \"\"\n      }\n    },\n    {\n      \"column\": 9,\n      \"properties\": {\n        \"dtype\": \"float32\",\n        \"num_unique_values\": 5,\n        \"samples\": [\n          -0.6562589406967163,\n          -6.048677921295166,\n          7.419716835021973\n        ],\n        \"semantic_type\": \"\",\n        \"description\": \"\"\n      }\n    }\n  ]\n}"
            }
          },
          "metadata": {},
          "execution_count": 21
        }
      ],
      "source": [
        "# Con el modelo entrenado, usamos \"Predict\" para realizar\n",
        "# nuestras predicciones, usando los datos de prueba\n",
        "predicciones = modelo.predict(test_RS)\n",
        "\n",
        "# Guardamos las predicciones en una variable llamada df2\n",
        "df2 = pd.DataFrame(predicciones)\n",
        "df2.head()\n",
        "\n",
        "# Y probamos..."
      ]
    },
    {
      "cell_type": "markdown",
      "source": [
        "# 7. Procesar / Enviar / Mostrar los datos"
      ],
      "metadata": {
        "id": "hcBB7QLMx-Cv"
      },
      "id": "hcBB7QLMx-Cv"
    },
    {
      "cell_type": "code",
      "execution_count": null,
      "id": "7f2e36b7",
      "metadata": {
        "id": "7f2e36b7",
        "colab": {
          "base_uri": "https://localhost:8080/",
          "height": 556
        },
        "outputId": "7fc4671a-b728-48ee-dd9d-c85bdf99c1a7"
      },
      "outputs": [
        {
          "output_type": "stream",
          "name": "stdout",
          "text": [
            "El número que se identificó en la imagen es 6\n",
            "-----------------\n",
            "La imagen que el algoritmo vio es: \n"
          ]
        },
        {
          "output_type": "execute_result",
          "data": {
            "text/plain": [
              "<matplotlib.image.AxesImage at 0x7cd2ecf9ffd0>"
            ]
          },
          "metadata": {},
          "execution_count": 28
        },
        {
          "output_type": "display_data",
          "data": {
            "text/plain": [
              "<Figure size 640x480 with 1 Axes>"
            ],
            "image/png": "[encoded data removed]"
          },
          "metadata": {}
        }
      ],
      "source": [
        "# Seleccionamos una imagen random\n",
        "i = random.randint(0, test.shape[0])\n",
        "\n",
        "# Le decimos al algoritmo que prediga, y nos indique qué número es.\n",
        "pred=pd.Series(predicciones[i])\n",
        "print (f\"El número que se identificó en la imagen es {pred.idxmax()}\")\n",
        "print(\"-----------------\")\n",
        "# y finalmente le pedimos a Python que grafique... A ver si es cierto\n",
        "print(\"La imagen que el algoritmo vio es: \")\n",
        "plt.imshow(test_RS[i])"
      ]
    },
    {
      "cell_type": "markdown",
      "source": [
        "# Probemos con una imagen generada en el momento"
      ],
      "metadata": {
        "id": "62KYKPY3yGFm"
      },
      "id": "62KYKPY3yGFm"
    },
    {
      "cell_type": "code",
      "execution_count": null,
      "id": "cad5d5b9",
      "metadata": {
        "id": "cad5d5b9",
        "colab": {
          "base_uri": "https://localhost:8080/",
          "height": 45
        },
        "outputId": "0a6f6b0a-9ca9-4eb8-c8c6-a65a0b093898"
      },
      "outputs": [
        {
          "output_type": "execute_result",
          "data": {
            "text/plain": [
              "<PIL.PngImagePlugin.PngImageFile image mode=RGBA size=28x28>"
            ],
            "image/png": "[encoded data removed]"
          },
          "metadata": {},
          "execution_count": 32
        }
      ],
      "source": [
        "# import required libraries\n",
        "from PIL import Image\n",
        "\n",
        "# read an image\n",
        "img = Image.open('numeroA.png')\n",
        "\n",
        "# convert image object into array\n",
        "matrizImagen = np.asarray(img)\n",
        "\n",
        "foto = np.resize(matrizImagen[:,:,1], (1,28,28))\n",
        "img"
      ]
    },
    {
      "cell_type": "code",
      "execution_count": null,
      "id": "963aa14e",
      "metadata": {
        "id": "963aa14e",
        "colab": {
          "base_uri": "https://localhost:8080/"
        },
        "outputId": "5d7f902d-0203-48a2-dcba-4641eeb8568a"
      },
      "outputs": [
        {
          "output_type": "stream",
          "name": "stdout",
          "text": [
            "\u001b[1m1/1\u001b[0m \u001b[32m━━━━━━━━━━━━━━━━━━━━\u001b[0m\u001b[37m\u001b[0m \u001b[1m0s\u001b[0m 35ms/step\n"
          ]
        },
        {
          "output_type": "execute_result",
          "data": {
            "text/plain": [
              "5"
            ]
          },
          "metadata": {},
          "execution_count": 33
        }
      ],
      "source": [
        "# Comprobamos a ver si reconoce el número...\n",
        "\n",
        "pr= modelo.predict(foto)\n",
        "prediccion = pd.Series(pr[0])\n",
        "prediccion.idxmax() #toma el número máximo de la serie"
      ]
    }
  ],
  "metadata": {
    "kernelspec": {
      "display_name": "Python 3",
      "language": "python",
      "name": "python3"
    },
    "language_info": {
      "codemirror_mode": {
        "name": "ipython",
        "version": 3
      },
      "file_extension": ".py",
      "mimetype": "text/x-python",
      "name": "python",
      "nbconvert_exporter": "python",
      "pygments_lexer": "ipython3",
      "version": "3.11.4"
    },
    "papermill": {
      "default_parameters": {},
      "duration": 108.260163,
      "end_time": "2022-11-04T02:18:27.358224",
      "environment_variables": {},
      "exception": null,
      "input_path": "__notebook__.ipynb",
      "output_path": "__notebook__.ipynb",
      "parameters": {},
      "start_time": "2022-11-04T02:16:39.098061",
      "version": "2.3.4"
    },
    "colab": {
      "provenance": [],
      "include_colab_link": true
    }
  },
  "nbformat": 4,
  "nbformat_minor": 5
}